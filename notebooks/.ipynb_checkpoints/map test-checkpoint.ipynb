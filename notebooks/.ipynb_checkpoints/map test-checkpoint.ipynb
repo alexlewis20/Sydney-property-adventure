{
 "cells": [
  {
   "cell_type": "code",
   "execution_count": 1,
   "metadata": {
    "collapsed": true
   },
   "outputs": [],
   "source": [
    "import os\n",
    "import geopandas as gp\n",
    "import shapely\n",
    "import fiona\n",
    "import matplotlib\n",
    "import matplotlib.pyplot as plt\n",
    "import numpy as np\n",
    "import pandas as pd\n",
    "\n",
    "shp_file_name = \"NSW_LOCALITY_POLYGON_shp.shp\"\n",
    "zip_file_name = \"nswlocalitypolygonshp.zip\"\n",
    "web_file_path = (\"http://data.gov.au/dataset/91e70237-d9d1-4719-a82f-e71b811154c6/resource/\"\n",
    "                 \"bf8b5180-fcea-44bd-bd76-af14cc4b0fe0/download/nswlocalitypolygonshp.zip\")"
   ]
  },
  {
   "cell_type": "code",
   "execution_count": 2,
   "metadata": {
    "collapsed": true
   },
   "outputs": [],
   "source": [
    "%matplotlib inline\n",
    "plt.rcParams['figure.figsize'] = (20, 10)"
   ]
  },
  {
   "cell_type": "code",
   "execution_count": 3,
   "metadata": {
    "collapsed": true
   },
   "outputs": [],
   "source": [
    "def unzip_zipfile(zipped_file_path, put_it_here=\".\"):\n",
    "    import zipfile\n",
    "    zip_of_suburbs = zipfile.ZipFile(zipped_file_path, 'r')\n",
    "    zip_of_suburbs.extractall(put_it_here)\n",
    "    zip_of_suburbs.close()"
   ]
  },
  {
   "cell_type": "code",
   "execution_count": 4,
   "metadata": {
    "collapsed": false
   },
   "outputs": [
    {
     "name": "stdout",
     "output_type": "stream",
     "text": [
      "loading from the internet\n",
      "done\n"
     ]
    }
   ],
   "source": [
    "# Get the data loaded. This is a bit complicated because it's online as a zip file.\n",
    "# If we don't have it right now, we need to get it and unzip it.\n",
    "if os.path.isfile(shp_file_name):\n",
    "    print \"loading from file\"\n",
    "else:\n",
    "    if os.path.isfile(zip_file_name):\n",
    "        print \"unzipping\"\n",
    "        unzip_zipfile(zip_file_name)\n",
    "    else:\n",
    "        import requests\n",
    "        print \"loading from the internet\"\n",
    "        page = requests.get(web_file_path)\n",
    "        with open(zip_file_name, 'wb') as z:\n",
    "            z.write(page.content)\n",
    "        unzip_zipfile(zip_file_name)\n",
    "\n",
    "print \"done\""
   ]
  },
  {
   "cell_type": "code",
   "execution_count": 7,
   "metadata": {
    "collapsed": false
   },
   "outputs": [
    {
     "data": {
      "text/html": [
       "<div>\n",
       "<table border=\"1\" class=\"dataframe\">\n",
       "  <thead>\n",
       "    <tr style=\"text-align: right;\">\n",
       "      <th></th>\n",
       "      <th>DT_CREATE</th>\n",
       "      <th>LC_PLY_PID</th>\n",
       "      <th>LOC_PID</th>\n",
       "      <th>NSW_LOCALI</th>\n",
       "      <th>NSW_LOCA_2</th>\n",
       "      <th>NSW_LOCA_5</th>\n",
       "      <th>NSW_LOCA_6</th>\n",
       "      <th>NSW_LOCA_7</th>\n",
       "      <th>geometry</th>\n",
       "    </tr>\n",
       "  </thead>\n",
       "  <tbody>\n",
       "    <tr>\n",
       "      <th>10</th>\n",
       "      <td>2015-09-03</td>\n",
       "      <td>25101</td>\n",
       "      <td>NSW4391</td>\n",
       "      <td>2015-11-10</td>\n",
       "      <td>WOLLSTONECRAFT</td>\n",
       "      <td>G</td>\n",
       "      <td>None</td>\n",
       "      <td>1</td>\n",
       "      <td>POLYGON ((151.19807629946 -33.82565730712, 151...</td>\n",
       "    </tr>\n",
       "    <tr>\n",
       "      <th>11</th>\n",
       "      <td>2015-09-03</td>\n",
       "      <td>24909</td>\n",
       "      <td>NSW3339</td>\n",
       "      <td>2015-11-10</td>\n",
       "      <td>RANDWICK</td>\n",
       "      <td>G</td>\n",
       "      <td>None</td>\n",
       "      <td>1</td>\n",
       "      <td>POLYGON ((151.24494816991 -33.90276364158, 151...</td>\n",
       "    </tr>\n",
       "  </tbody>\n",
       "</table>\n",
       "</div>"
      ],
      "text/plain": [
       "     DT_CREATE LC_PLY_PID  LOC_PID  NSW_LOCALI      NSW_LOCA_2 NSW_LOCA_5  \\\n",
       "10  2015-09-03      25101  NSW4391  2015-11-10  WOLLSTONECRAFT          G   \n",
       "11  2015-09-03      24909  NSW3339  2015-11-10        RANDWICK          G   \n",
       "\n",
       "   NSW_LOCA_6 NSW_LOCA_7                                           geometry  \n",
       "10       None          1  POLYGON ((151.19807629946 -33.82565730712, 151...  \n",
       "11       None          1  POLYGON ((151.24494816991 -33.90276364158, 151...  "
      ]
     },
     "execution_count": 7,
     "metadata": {},
     "output_type": "execute_result"
    }
   ],
   "source": [
    "suburbs = gp.GeoDataFrame.from_file(shp_file_name)\n",
    "suburbs.drop([\"NSW_LOCA_1\", \"NSW_LOCA_3\", \"NSW_LOCA_4\", \"DT_RETIRE\"], axis=1, inplace=True)\n",
    "suburbs[10:20].head(2)"
   ]
  },
  {
   "cell_type": "code",
   "execution_count": 8,
   "metadata": {
    "collapsed": true
   },
   "outputs": [],
   "source": [
    "a = suburbs.iloc[10]"
   ]
  }
 ],
 "metadata": {
  "kernelspec": {
   "display_name": "Python 2",
   "language": "python",
   "name": "python2"
  },
  "language_info": {
   "codemirror_mode": {
    "name": "ipython",
    "version": 2
   },
   "file_extension": ".py",
   "mimetype": "text/x-python",
   "name": "python",
   "nbconvert_exporter": "python",
   "pygments_lexer": "ipython2",
   "version": "2.7.12"
  }
 },
 "nbformat": 4,
 "nbformat_minor": 2
}
