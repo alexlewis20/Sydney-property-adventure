{
 "cells": [
  {
   "cell_type": "markdown",
   "metadata": {
    "deletable": true,
    "editable": true
   },
   "source": [
    "# Import and load combined csv"
   ]
  },
  {
   "cell_type": "code",
   "execution_count": 2,
   "metadata": {
    "collapsed": true,
    "deletable": true,
    "editable": true
   },
   "outputs": [],
   "source": [
    "import matplotlib\n",
    "import matplotlib.pyplot as plt\n",
    "import numpy as np\n",
    "import pandas as pd\n",
    "import os\n",
    "import glob\n",
    "\n",
    "%matplotlib inline\n",
    "plt.rcParams['figure.figsize'] = (40, 20)"
   ]
  },
  {
   "cell_type": "code",
   "execution_count": 74,
   "metadata": {
    "collapsed": false,
    "deletable": true,
    "editable": true,
    "scrolled": true
   },
   "outputs": [
    {
     "data": {
      "text/html": [
       "<div>\n",
       "<table border=\"1\" class=\"dataframe\">\n",
       "  <thead>\n",
       "    <tr style=\"text-align: right;\">\n",
       "      <th></th>\n",
       "      <th>Unnamed: 0</th>\n",
       "      <th>ADDRESS</th>\n",
       "      <th>SALE PRICE</th>\n",
       "      <th>SALE DATE</th>\n",
       "      <th>AREA</th>\n",
       "      <th>STRATA/NON STRATA</th>\n",
       "      <th>MULTI-PROPERTY SALE (Y/N)</th>\n",
       "      <th>PROPERTY NUMBER</th>\n",
       "      <th>DEALING NUMBER</th>\n",
       "      <th>EXTRACTION DATE</th>\n",
       "      <th>SUBURB</th>\n",
       "      <th>SALE DAY</th>\n",
       "      <th>SALE MONTH</th>\n",
       "      <th>SALE YEAR</th>\n",
       "    </tr>\n",
       "  </thead>\n",
       "  <tbody>\n",
       "    <tr>\n",
       "      <th>41000</th>\n",
       "      <td>45311</td>\n",
       "      <td>168 RILEY STREET, DARLINGHURST NSW 2010</td>\n",
       "      <td>1600000</td>\n",
       "      <td>2012-10-05</td>\n",
       "      <td>113.8</td>\n",
       "      <td>NON STRATA</td>\n",
       "      <td>No</td>\n",
       "      <td>2143084</td>\n",
       "      <td>AH521492</td>\n",
       "      <td>30 April 2017</td>\n",
       "      <td>Darlinghurst</td>\n",
       "      <td>5</td>\n",
       "      <td>10</td>\n",
       "      <td>2012</td>\n",
       "    </tr>\n",
       "  </tbody>\n",
       "</table>\n",
       "</div>"
      ],
      "text/plain": [
       "       Unnamed: 0                                  ADDRESS  SALE PRICE  \\\n",
       "41000       45311  168 RILEY STREET, DARLINGHURST NSW 2010     1600000   \n",
       "\n",
       "        SALE DATE   AREA STRATA/NON STRATA MULTI-PROPERTY SALE (Y/N)  \\\n",
       "41000  2012-10-05  113.8        NON STRATA                        No   \n",
       "\n",
       "       PROPERTY NUMBER DEALING NUMBER EXTRACTION DATE        SUBURB  SALE DAY  \\\n",
       "41000          2143084       AH521492   30 April 2017  Darlinghurst         5   \n",
       "\n",
       "       SALE MONTH  SALE YEAR  \n",
       "41000          10       2012  "
      ]
     },
     "execution_count": 74,
     "metadata": {},
     "output_type": "execute_result"
    }
   ],
   "source": [
    "sales_data = pd.read_csv('../sydney_sales_combined.csv')\n",
    "sales_data[41000:41500].head(1)"
   ]
  },
  {
   "cell_type": "code",
   "execution_count": 75,
   "metadata": {
    "collapsed": false,
    "deletable": true,
    "editable": true,
    "scrolled": true
   },
   "outputs": [
    {
     "data": {
      "text/html": [
       "<div>\n",
       "<table border=\"1\" class=\"dataframe\">\n",
       "  <thead>\n",
       "    <tr style=\"text-align: right;\">\n",
       "      <th></th>\n",
       "      <th>Unnamed: 0</th>\n",
       "      <th>Unnamed: 0.1</th>\n",
       "      <th>ADDRESS</th>\n",
       "      <th>SALE PRICE</th>\n",
       "      <th>SALE DATE</th>\n",
       "      <th>AREA</th>\n",
       "      <th>STRATA/NON STRATA</th>\n",
       "      <th>MULTI-PROPERTY SALE (Y/N)</th>\n",
       "      <th>PROPERTY NUMBER</th>\n",
       "      <th>DEALING NUMBER</th>\n",
       "      <th>EXTRACTION DATE</th>\n",
       "      <th>SUBURB</th>\n",
       "      <th>SALE DAY</th>\n",
       "      <th>SALE MONTH</th>\n",
       "      <th>SALE YEAR</th>\n",
       "    </tr>\n",
       "  </thead>\n",
       "  <tbody>\n",
       "    <tr>\n",
       "      <th>41000</th>\n",
       "      <td>41000</td>\n",
       "      <td>45311</td>\n",
       "      <td>168 RILEY STREET, DARLINGHURST NSW 2010</td>\n",
       "      <td>1600000</td>\n",
       "      <td>2012-10-05</td>\n",
       "      <td>113.8</td>\n",
       "      <td>NON STRATA</td>\n",
       "      <td>No</td>\n",
       "      <td>2143084</td>\n",
       "      <td>AH521492</td>\n",
       "      <td>30 April 2017</td>\n",
       "      <td>Darlinghurst</td>\n",
       "      <td>5</td>\n",
       "      <td>10</td>\n",
       "      <td>2012</td>\n",
       "    </tr>\n",
       "  </tbody>\n",
       "</table>\n",
       "</div>"
      ],
      "text/plain": [
       "       Unnamed: 0  Unnamed: 0.1                                  ADDRESS  \\\n",
       "41000       41000         45311  168 RILEY STREET, DARLINGHURST NSW 2010   \n",
       "\n",
       "       SALE PRICE   SALE DATE   AREA STRATA/NON STRATA  \\\n",
       "41000     1600000  2012-10-05  113.8        NON STRATA   \n",
       "\n",
       "      MULTI-PROPERTY SALE (Y/N)  PROPERTY NUMBER DEALING NUMBER  \\\n",
       "41000                        No          2143084       AH521492   \n",
       "\n",
       "      EXTRACTION DATE        SUBURB  SALE DAY  SALE MONTH  SALE YEAR  \n",
       "41000   30 April 2017  Darlinghurst         5          10       2012  "
      ]
     },
     "execution_count": 75,
     "metadata": {},
     "output_type": "execute_result"
    }
   ],
   "source": [
    "sales_data.to_csv(\"../sydney_sales_combined_geocoded.csv\")\n",
    "sales_data = pd.read_csv(\"../sydney_sales_combined_geocoded.csv\")\n",
    "sales_data[41000:41500].head(1)"
   ]
  },
  {
   "cell_type": "markdown",
   "metadata": {},
   "source": [
    "# Load test CSV"
   ]
  },
  {
   "cell_type": "code",
   "execution_count": 12,
   "metadata": {
    "collapsed": false
   },
   "outputs": [
    {
     "data": {
      "text/html": [
       "<div>\n",
       "<table border=\"1\" class=\"dataframe\">\n",
       "  <thead>\n",
       "    <tr style=\"text-align: right;\">\n",
       "      <th></th>\n",
       "      <th>Unnamed: 0</th>\n",
       "      <th>ADDRESS</th>\n",
       "      <th>SALE PRICE</th>\n",
       "      <th>SALE DATE</th>\n",
       "      <th>AREA</th>\n",
       "      <th>STRATA/NON STRATA</th>\n",
       "      <th>MULTI-PROPERTY SALE (Y/N)</th>\n",
       "      <th>PROPERTY NUMBER</th>\n",
       "      <th>DEALING NUMBER</th>\n",
       "      <th>EXTRACTION DATE</th>\n",
       "      <th>SUBURB</th>\n",
       "      <th>SALE DAY</th>\n",
       "      <th>SALE MONTH</th>\n",
       "      <th>SALE YEA</th>\n",
       "    </tr>\n",
       "  </thead>\n",
       "  <tbody>\n",
       "    <tr>\n",
       "      <th>0</th>\n",
       "      <td>46290</td>\n",
       "      <td>24/20 MCLACHLAN AVENUE, DARLINGHURST NSW 2010</td>\n",
       "      <td>525000</td>\n",
       "      <td>2012-06-27</td>\n",
       "      <td>0.0</td>\n",
       "      <td>STRATA</td>\n",
       "      <td>No</td>\n",
       "      <td>3850267</td>\n",
       "      <td>AJ732950</td>\n",
       "      <td>30 April 2017</td>\n",
       "      <td>Darlinghurst</td>\n",
       "      <td>27</td>\n",
       "      <td>6</td>\n",
       "      <td>2012</td>\n",
       "    </tr>\n",
       "    <tr>\n",
       "      <th>1</th>\n",
       "      <td>46291</td>\n",
       "      <td>44/20 MCLACHLAN AVENUE, DARLINGHURST NSW 2010</td>\n",
       "      <td>580000</td>\n",
       "      <td>2012-06-19</td>\n",
       "      <td>0.0</td>\n",
       "      <td>STRATA</td>\n",
       "      <td>No</td>\n",
       "      <td>3850283</td>\n",
       "      <td>AJ738253</td>\n",
       "      <td>30 April 2017</td>\n",
       "      <td>Darlinghurst</td>\n",
       "      <td>19</td>\n",
       "      <td>6</td>\n",
       "      <td>2012</td>\n",
       "    </tr>\n",
       "    <tr>\n",
       "      <th>2</th>\n",
       "      <td>46292</td>\n",
       "      <td>310/2 NEILD AVENUE, DARLINGHURST NSW 2010</td>\n",
       "      <td>520000</td>\n",
       "      <td>2012-05-21</td>\n",
       "      <td>0.0</td>\n",
       "      <td>STRATA</td>\n",
       "      <td>No</td>\n",
       "      <td>3850198</td>\n",
       "      <td>AJ749790</td>\n",
       "      <td>30 April 2017</td>\n",
       "      <td>Darlinghurst</td>\n",
       "      <td>21</td>\n",
       "      <td>5</td>\n",
       "      <td>2012</td>\n",
       "    </tr>\n",
       "    <tr>\n",
       "      <th>3</th>\n",
       "      <td>46293</td>\n",
       "      <td>318/4 NEILD AVENUE, DARLINGHURST NSW 2010</td>\n",
       "      <td>595000</td>\n",
       "      <td>2012-05-21</td>\n",
       "      <td>0.0</td>\n",
       "      <td>STRATA</td>\n",
       "      <td>No</td>\n",
       "      <td>3850206</td>\n",
       "      <td>AJ749791</td>\n",
       "      <td>30 April 2017</td>\n",
       "      <td>Darlinghurst</td>\n",
       "      <td>21</td>\n",
       "      <td>5</td>\n",
       "      <td>2012</td>\n",
       "    </tr>\n",
       "    <tr>\n",
       "      <th>4</th>\n",
       "      <td>46294</td>\n",
       "      <td>48/20 MCLACHLAN AVENUE, DARLINGHURST NSW 2010</td>\n",
       "      <td>715000</td>\n",
       "      <td>2012-05-08</td>\n",
       "      <td>0.0</td>\n",
       "      <td>STRATA</td>\n",
       "      <td>No</td>\n",
       "      <td>3850287</td>\n",
       "      <td>AJ790936</td>\n",
       "      <td>30 April 2017</td>\n",
       "      <td>Darlinghurst</td>\n",
       "      <td>8</td>\n",
       "      <td>5</td>\n",
       "      <td>2012</td>\n",
       "    </tr>\n",
       "  </tbody>\n",
       "</table>\n",
       "</div>"
      ],
      "text/plain": [
       "   Unnamed: 0                                        ADDRESS  SALE PRICE  \\\n",
       "0       46290  24/20 MCLACHLAN AVENUE, DARLINGHURST NSW 2010      525000   \n",
       "1       46291  44/20 MCLACHLAN AVENUE, DARLINGHURST NSW 2010      580000   \n",
       "2       46292      310/2 NEILD AVENUE, DARLINGHURST NSW 2010      520000   \n",
       "3       46293      318/4 NEILD AVENUE, DARLINGHURST NSW 2010      595000   \n",
       "4       46294  48/20 MCLACHLAN AVENUE, DARLINGHURST NSW 2010      715000   \n",
       "\n",
       "    SALE DATE  AREA STRATA/NON STRATA MULTI-PROPERTY SALE (Y/N)  \\\n",
       "0  2012-06-27   0.0            STRATA                        No   \n",
       "1  2012-06-19   0.0            STRATA                        No   \n",
       "2  2012-05-21   0.0            STRATA                        No   \n",
       "3  2012-05-21   0.0            STRATA                        No   \n",
       "4  2012-05-08   0.0            STRATA                        No   \n",
       "\n",
       "   PROPERTY NUMBER DEALING NUMBER EXTRACTION DATE        SUBURB  SALE DAY  \\\n",
       "0          3850267       AJ732950   30 April 2017  Darlinghurst        27   \n",
       "1          3850283       AJ738253   30 April 2017  Darlinghurst        19   \n",
       "2          3850198       AJ749790   30 April 2017  Darlinghurst        21   \n",
       "3          3850206       AJ749791   30 April 2017  Darlinghurst        21   \n",
       "4          3850287       AJ790936   30 April 2017  Darlinghurst         8   \n",
       "\n",
       "   SALE MONTH  SALE YEA  \n",
       "0           6      2012  \n",
       "1           6      2012  \n",
       "2           5      2012  \n",
       "3           5      2012  \n",
       "4           5      2012  "
      ]
     },
     "execution_count": 12,
     "metadata": {},
     "output_type": "execute_result"
    }
   ],
   "source": [
    "test_csv = pd.read_csv('../test_suburbs.csv')\n",
    "test_csv.head()"
   ]
  },
  {
   "cell_type": "markdown",
   "metadata": {
    "deletable": true,
    "editable": true
   },
   "source": [
    "# Geocode something"
   ]
  },
  {
   "cell_type": "code",
   "execution_count": 17,
   "metadata": {
    "collapsed": false,
    "deletable": true,
    "editable": true
   },
   "outputs": [],
   "source": [
    "import sys\n",
    "sys.path.insert(0, '../python')\n",
    "import geocode"
   ]
  },
  {
   "cell_type": "code",
   "execution_count": 18,
   "metadata": {
    "collapsed": false,
    "deletable": true,
    "editable": true,
    "scrolled": false
   },
   "outputs": [
    {
     "name": "stdout",
     "output_type": "stream",
     "text": [
      "{u'status': u'OK', u'results': [{u'geometry': {u'location': {u'lat': -33.8771518, u'lng': 151.2282027}, u'viewport': {u'northeast': {u'lat': -33.8758028197085, u'lng': 151.2295516802915}, u'southwest': {u'lat': -33.8785007802915, u'lng': 151.2268537197085}}, u'location_type': u'ROOFTOP'}, u'formatted_address': u'24/20 McLachlan Ave, Darlinghurst NSW 2010, Australia', u'place_id': u'EjUyNC8yMCBNY0xhY2hsYW4gQXZlLCBEYXJsaW5naHVyc3QgTlNXIDIwMTAsIEF1c3RyYWxpYQ', u'address_components': [{u'long_name': u'24', u'types': [u'subpremise'], u'short_name': u'24'}, {u'long_name': u'20', u'types': [u'street_number'], u'short_name': u'20'}, {u'long_name': u'McLachlan Avenue', u'types': [u'route'], u'short_name': u'McLachlan Ave'}, {u'long_name': u'Darlinghurst', u'types': [u'locality', u'political'], u'short_name': u'Darlinghurst'}, {u'long_name': u'Council of the City of Sydney', u'types': [u'administrative_area_level_2', u'political'], u'short_name': u'Sydney'}, {u'long_name': u'New South Wales', u'types': [u'administrative_area_level_1', u'political'], u'short_name': u'NSW'}, {u'long_name': u'Australia', u'types': [u'country', u'political'], u'short_name': u'AU'}, {u'long_name': u'2010', u'types': [u'postal_code'], u'short_name': u'2010'}], u'partial_match': True, u'types': [u'subpremise']}]}\n"
     ]
    }
   ],
   "source": [
    "address = test_csv[\"ADDRESS\"][0]\n",
    "\n",
    "geo_example = geocode.geocode(address)\n",
    "print geo_example"
   ]
  },
  {
   "cell_type": "markdown",
   "metadata": {},
   "source": [
    "# Try apply method"
   ]
  },
  {
   "cell_type": "code",
   "execution_count": 29,
   "metadata": {
    "collapsed": false,
    "deletable": true,
    "editable": true
   },
   "outputs": [],
   "source": [
    "row_num = 0\n",
    "\n",
    "def geocode_save(row):\n",
    "    \n",
    "    address = row[1]\n",
    "    \n",
    "    geo_address = geocode.geocode(address)\n",
    "    \n",
    "    location = geo_address[\"results\"][0][\"geometry\"][\"location\"]\n",
    "    council = geo_address[\"results\"][0][\"address_components\"][3]\n",
    "    viewport = geo_address[\"results\"][0][\"geometry\"][\"viewport\"]\n",
    "\n",
    "    results = {\"lat\": location[\"lat\"],\n",
    "               \"lng\": location[\"lng\"],\n",
    "               \"council_short\": council[\"short_name\"],\n",
    "               \"council_full\": council[\"long_name\"],\n",
    "               \"gmaps_id\": geo_address[\"results\"][0][\"place_id\"],\n",
    "               \"view NE lat\": viewport[\"northeast\"][\"lat\"],\n",
    "               \"view NE lng\": viewport[\"northeast\"][\"lng\"],\n",
    "               \"view SW lat\": viewport[\"southwest\"][\"lat\"],\n",
    "               \"view SW lng\": viewport[\"southwest\"][\"lng\"],\n",
    "               \"formatted address\": geo_address[\"results\"][0][\"formatted_address\"],\n",
    "               \"location type\": geo_address[\"results\"][0][\"geometry\"][\"location_type\"]\n",
    "                }\n",
    "\n",
    "    results_keys = results.keys()\n",
    "\n",
    "    def getter(y):\n",
    "        return results[y]\n",
    "    \n",
    "    for x in results_keys:\n",
    "        test_csv[x][row_num] = getter(x)\n",
    "    \n",
    "    row_num = row_num + 1"
   ]
  },
  {
   "cell_type": "code",
   "execution_count": 30,
   "metadata": {
    "collapsed": false,
    "deletable": true,
    "editable": true,
    "scrolled": true
   },
   "outputs": [
    {
     "ename": "UnboundLocalError",
     "evalue": "(\"local variable 'row_num' referenced before assignment\", u'occurred at index 0')",
     "output_type": "error",
     "traceback": [
      "\u001b[0;31m---------------------------------------------------------------------------\u001b[0m",
      "\u001b[0;31mUnboundLocalError\u001b[0m                         Traceback (most recent call last)",
      "\u001b[0;32m<ipython-input-30-811e4fdb4745>\u001b[0m in \u001b[0;36m<module>\u001b[0;34m()\u001b[0m\n\u001b[0;32m----> 1\u001b[0;31m \u001b[0mtest_csv\u001b[0m\u001b[0;34m.\u001b[0m\u001b[0mapply\u001b[0m\u001b[0;34m(\u001b[0m\u001b[0mgeocode_save\u001b[0m\u001b[0;34m,\u001b[0m \u001b[0maxis\u001b[0m\u001b[0;34m=\u001b[0m\u001b[0;36m1\u001b[0m\u001b[0;34m)\u001b[0m\u001b[0;34m\u001b[0m\u001b[0m\n\u001b[0m\u001b[1;32m      2\u001b[0m \u001b[0;34m\u001b[0m\u001b[0m\n\u001b[1;32m      3\u001b[0m \u001b[0mtest_csv\u001b[0m\u001b[0;34m.\u001b[0m\u001b[0mhead\u001b[0m\u001b[0;34m(\u001b[0m\u001b[0;34m)\u001b[0m\u001b[0;34m\u001b[0m\u001b[0m\n",
      "\u001b[0;32m/usr/local/lib/python2.7/dist-packages/pandas/core/frame.pyc\u001b[0m in \u001b[0;36mapply\u001b[0;34m(self, func, axis, broadcast, raw, reduce, args, **kwds)\u001b[0m\n\u001b[1;32m   4150\u001b[0m                     \u001b[0;32mif\u001b[0m \u001b[0mreduce\u001b[0m \u001b[0;32mis\u001b[0m \u001b[0mNone\u001b[0m\u001b[0;34m:\u001b[0m\u001b[0;34m\u001b[0m\u001b[0m\n\u001b[1;32m   4151\u001b[0m                         \u001b[0mreduce\u001b[0m \u001b[0;34m=\u001b[0m \u001b[0mTrue\u001b[0m\u001b[0;34m\u001b[0m\u001b[0m\n\u001b[0;32m-> 4152\u001b[0;31m                     \u001b[0;32mreturn\u001b[0m \u001b[0mself\u001b[0m\u001b[0;34m.\u001b[0m\u001b[0m_apply_standard\u001b[0m\u001b[0;34m(\u001b[0m\u001b[0mf\u001b[0m\u001b[0;34m,\u001b[0m \u001b[0maxis\u001b[0m\u001b[0;34m,\u001b[0m \u001b[0mreduce\u001b[0m\u001b[0;34m=\u001b[0m\u001b[0mreduce\u001b[0m\u001b[0;34m)\u001b[0m\u001b[0;34m\u001b[0m\u001b[0m\n\u001b[0m\u001b[1;32m   4153\u001b[0m             \u001b[0;32melse\u001b[0m\u001b[0;34m:\u001b[0m\u001b[0;34m\u001b[0m\u001b[0m\n\u001b[1;32m   4154\u001b[0m                 \u001b[0;32mreturn\u001b[0m \u001b[0mself\u001b[0m\u001b[0;34m.\u001b[0m\u001b[0m_apply_broadcast\u001b[0m\u001b[0;34m(\u001b[0m\u001b[0mf\u001b[0m\u001b[0;34m,\u001b[0m \u001b[0maxis\u001b[0m\u001b[0;34m)\u001b[0m\u001b[0;34m\u001b[0m\u001b[0m\n",
      "\u001b[0;32m/usr/local/lib/python2.7/dist-packages/pandas/core/frame.pyc\u001b[0m in \u001b[0;36m_apply_standard\u001b[0;34m(self, func, axis, ignore_failures, reduce)\u001b[0m\n\u001b[1;32m   4246\u001b[0m             \u001b[0;32mtry\u001b[0m\u001b[0;34m:\u001b[0m\u001b[0;34m\u001b[0m\u001b[0m\n\u001b[1;32m   4247\u001b[0m                 \u001b[0;32mfor\u001b[0m \u001b[0mi\u001b[0m\u001b[0;34m,\u001b[0m \u001b[0mv\u001b[0m \u001b[0;32min\u001b[0m \u001b[0menumerate\u001b[0m\u001b[0;34m(\u001b[0m\u001b[0mseries_gen\u001b[0m\u001b[0;34m)\u001b[0m\u001b[0;34m:\u001b[0m\u001b[0;34m\u001b[0m\u001b[0m\n\u001b[0;32m-> 4248\u001b[0;31m                     \u001b[0mresults\u001b[0m\u001b[0;34m[\u001b[0m\u001b[0mi\u001b[0m\u001b[0;34m]\u001b[0m \u001b[0;34m=\u001b[0m \u001b[0mfunc\u001b[0m\u001b[0;34m(\u001b[0m\u001b[0mv\u001b[0m\u001b[0;34m)\u001b[0m\u001b[0;34m\u001b[0m\u001b[0m\n\u001b[0m\u001b[1;32m   4249\u001b[0m                     \u001b[0mkeys\u001b[0m\u001b[0;34m.\u001b[0m\u001b[0mappend\u001b[0m\u001b[0;34m(\u001b[0m\u001b[0mv\u001b[0m\u001b[0;34m.\u001b[0m\u001b[0mname\u001b[0m\u001b[0;34m)\u001b[0m\u001b[0;34m\u001b[0m\u001b[0m\n\u001b[1;32m   4250\u001b[0m             \u001b[0;32mexcept\u001b[0m \u001b[0mException\u001b[0m \u001b[0;32mas\u001b[0m \u001b[0me\u001b[0m\u001b[0;34m:\u001b[0m\u001b[0;34m\u001b[0m\u001b[0m\n",
      "\u001b[0;32m<ipython-input-29-e84d12bd6716>\u001b[0m in \u001b[0;36mgeocode_save\u001b[0;34m(row)\u001b[0m\n\u001b[1;32m     30\u001b[0m \u001b[0;34m\u001b[0m\u001b[0m\n\u001b[1;32m     31\u001b[0m     \u001b[0;32mfor\u001b[0m \u001b[0mx\u001b[0m \u001b[0;32min\u001b[0m \u001b[0mresults_keys\u001b[0m\u001b[0;34m:\u001b[0m\u001b[0;34m\u001b[0m\u001b[0m\n\u001b[0;32m---> 32\u001b[0;31m         \u001b[0mtest_csv\u001b[0m\u001b[0;34m[\u001b[0m\u001b[0mx\u001b[0m\u001b[0;34m]\u001b[0m\u001b[0;34m[\u001b[0m\u001b[0mrow_num\u001b[0m\u001b[0;34m]\u001b[0m \u001b[0;34m=\u001b[0m \u001b[0mgetter\u001b[0m\u001b[0;34m(\u001b[0m\u001b[0mx\u001b[0m\u001b[0;34m)\u001b[0m\u001b[0;34m\u001b[0m\u001b[0m\n\u001b[0m\u001b[1;32m     33\u001b[0m \u001b[0;34m\u001b[0m\u001b[0m\n\u001b[1;32m     34\u001b[0m     \u001b[0mrow_num\u001b[0m \u001b[0;34m=\u001b[0m \u001b[0mrow_num\u001b[0m \u001b[0;34m+\u001b[0m \u001b[0;36m1\u001b[0m\u001b[0;34m\u001b[0m\u001b[0m\n",
      "\u001b[0;31mUnboundLocalError\u001b[0m: (\"local variable 'row_num' referenced before assignment\", u'occurred at index 0')"
     ]
    }
   ],
   "source": [
    "test_csv.apply(geocode_save, axis=1)\n",
    "\n",
    "test_csv.head()"
   ]
  },
  {
   "cell_type": "markdown",
   "metadata": {},
   "source": [
    "# Try for loop method"
   ]
  },
  {
   "cell_type": "code",
   "execution_count": 33,
   "metadata": {
    "collapsed": false
   },
   "outputs": [
    {
     "ename": "IndexError",
     "evalue": "list index out of range",
     "output_type": "error",
     "traceback": [
      "\u001b[0;31m---------------------------------------------------------------------------\u001b[0m",
      "\u001b[0;31mIndexError\u001b[0m                                Traceback (most recent call last)",
      "\u001b[0;32m<ipython-input-33-9103a81661ae>\u001b[0m in \u001b[0;36m<module>\u001b[0;34m()\u001b[0m\n\u001b[1;32m     38\u001b[0m \u001b[0;34m\u001b[0m\u001b[0m\n\u001b[1;32m     39\u001b[0m \u001b[0;32mfor\u001b[0m \u001b[0mrow\u001b[0m \u001b[0;32min\u001b[0m \u001b[0mtest_csv\u001b[0m\u001b[0;34m:\u001b[0m\u001b[0;34m\u001b[0m\u001b[0m\n\u001b[0;32m---> 40\u001b[0;31m     \u001b[0mnew_row\u001b[0m \u001b[0;34m=\u001b[0m \u001b[0mgeocode_save\u001b[0m\u001b[0;34m(\u001b[0m\u001b[0mrow\u001b[0m\u001b[0;34m)\u001b[0m\u001b[0;34m\u001b[0m\u001b[0m\n\u001b[0m\u001b[1;32m     41\u001b[0m     \u001b[0mnew_df\u001b[0m\u001b[0;34m.\u001b[0m\u001b[0mappend\u001b[0m\u001b[0;34m(\u001b[0m\u001b[0mnew_row\u001b[0m\u001b[0;34m)\u001b[0m\u001b[0;34m\u001b[0m\u001b[0m\n\u001b[1;32m     42\u001b[0m \u001b[0;34m\u001b[0m\u001b[0m\n",
      "\u001b[0;32m<ipython-input-33-9103a81661ae>\u001b[0m in \u001b[0;36mgeocode_save\u001b[0;34m(row)\u001b[0m\n\u001b[1;32m      8\u001b[0m \u001b[0;34m\u001b[0m\u001b[0m\n\u001b[1;32m      9\u001b[0m     \u001b[0mlocation\u001b[0m \u001b[0;34m=\u001b[0m \u001b[0mgeo_address\u001b[0m\u001b[0;34m[\u001b[0m\u001b[0;34m\"results\"\u001b[0m\u001b[0;34m]\u001b[0m\u001b[0;34m[\u001b[0m\u001b[0;36m0\u001b[0m\u001b[0;34m]\u001b[0m\u001b[0;34m[\u001b[0m\u001b[0;34m\"geometry\"\u001b[0m\u001b[0;34m]\u001b[0m\u001b[0;34m[\u001b[0m\u001b[0;34m\"location\"\u001b[0m\u001b[0;34m]\u001b[0m\u001b[0;34m\u001b[0m\u001b[0m\n\u001b[0;32m---> 10\u001b[0;31m     \u001b[0mcouncil\u001b[0m \u001b[0;34m=\u001b[0m \u001b[0mgeo_address\u001b[0m\u001b[0;34m[\u001b[0m\u001b[0;34m\"results\"\u001b[0m\u001b[0;34m]\u001b[0m\u001b[0;34m[\u001b[0m\u001b[0;36m0\u001b[0m\u001b[0;34m]\u001b[0m\u001b[0;34m[\u001b[0m\u001b[0;34m\"address_components\"\u001b[0m\u001b[0;34m]\u001b[0m\u001b[0;34m[\u001b[0m\u001b[0;36m3\u001b[0m\u001b[0;34m]\u001b[0m\u001b[0;34m\u001b[0m\u001b[0m\n\u001b[0m\u001b[1;32m     11\u001b[0m     \u001b[0mviewport\u001b[0m \u001b[0;34m=\u001b[0m \u001b[0mgeo_address\u001b[0m\u001b[0;34m[\u001b[0m\u001b[0;34m\"results\"\u001b[0m\u001b[0;34m]\u001b[0m\u001b[0;34m[\u001b[0m\u001b[0;36m0\u001b[0m\u001b[0;34m]\u001b[0m\u001b[0;34m[\u001b[0m\u001b[0;34m\"geometry\"\u001b[0m\u001b[0;34m]\u001b[0m\u001b[0;34m[\u001b[0m\u001b[0;34m\"viewport\"\u001b[0m\u001b[0;34m]\u001b[0m\u001b[0;34m\u001b[0m\u001b[0m\n\u001b[1;32m     12\u001b[0m \u001b[0;34m\u001b[0m\u001b[0m\n",
      "\u001b[0;31mIndexError\u001b[0m: list index out of range"
     ]
    }
   ],
   "source": [
    "new_df = []\n",
    "\n",
    "def geocode_save(row):\n",
    "    \n",
    "    address = row[1]\n",
    "    \n",
    "    geo_address = geocode.geocode(address)\n",
    "    \n",
    "    location = geo_address[\"results\"][0][\"geometry\"][\"location\"]\n",
    "    council = geo_address[\"results\"][0][\"address_components\"][3]\n",
    "    viewport = geo_address[\"results\"][0][\"geometry\"][\"viewport\"]\n",
    "\n",
    "    results = {\"lat\": location[\"lat\"],\n",
    "               \"lng\": location[\"lng\"],\n",
    "               \"council_short\": council[\"short_name\"],\n",
    "               \"council_full\": council[\"long_name\"],\n",
    "               \"gmaps_id\": geo_address[\"results\"][0][\"place_id\"],\n",
    "               \"view NE lat\": viewport[\"northeast\"][\"lat\"],\n",
    "               \"view NE lng\": viewport[\"northeast\"][\"lng\"],\n",
    "               \"view SW lat\": viewport[\"southwest\"][\"lat\"],\n",
    "               \"view SW lng\": viewport[\"southwest\"][\"lng\"],\n",
    "               \"formatted address\": geo_address[\"results\"][0][\"formatted_address\"],\n",
    "               \"location type\": geo_address[\"results\"][0][\"geometry\"][\"location_type\"]\n",
    "                }\n",
    "\n",
    "    results_keys = results.keys()\n",
    "\n",
    "    def getter(y):\n",
    "        return results[y]\n",
    "    \n",
    "    geocoded_row = []\n",
    "    \n",
    "    for x in results_keys:\n",
    "        geocoded_row.append(getter(x))\n",
    "    \n",
    "    return geocoded_row\n",
    "\n",
    "\n",
    "for row in test_csv:\n",
    "    new_row = geocode_save(row)\n",
    "    new_df.append(new_row)\n",
    "    \n",
    "new_df.head()"
   ]
  }
 ],
 "metadata": {
  "kernelspec": {
   "display_name": "Python 2",
   "language": "python",
   "name": "python2"
  },
  "language_info": {
   "codemirror_mode": {
    "name": "ipython",
    "version": 2
   },
   "file_extension": ".py",
   "mimetype": "text/x-python",
   "name": "python",
   "nbconvert_exporter": "python",
   "pygments_lexer": "ipython2",
   "version": "2.7.12"
  }
 },
 "nbformat": 4,
 "nbformat_minor": 2
}
